{
  "cells": [
    {
      "cell_type": "markdown",
      "metadata": {
        "id": "view-in-github",
        "colab_type": "text"
      },
      "source": [
        "<a href=\"https://colab.research.google.com/github/vamsimalineni96/Fifa18_data_analytics/blob/main/FIFA18_data_analytics.ipynb\" target=\"_parent\"><img src=\"https://colab.research.google.com/assets/colab-badge.svg\" alt=\"Open In Colab\"/></a>"
      ]
    },
    {
      "cell_type": "code",
      "execution_count": 2,
      "id": "ea3cb3c2",
      "metadata": {
        "id": "ea3cb3c2"
      },
      "outputs": [],
      "source": [
        "import pandas as pd\n",
        "import numpy as np\n",
        "import matplotlib.pyplot as plt\n",
        "\n",
        "from sklearn.cluster import KMeans as kmeans\n",
        "from sklearn.preprocessing import StandardScaler as ss\n",
        "from sklearn.preprocessing import OneHotEncoder \n"
      ]
    },
    {
      "cell_type": "code",
      "source": [
        "from google.colab import drive\n",
        "drive.mount('/content/drive')"
      ],
      "metadata": {
        "colab": {
          "base_uri": "https://localhost:8080/"
        },
        "id": "dz9ansOrwyeo",
        "outputId": "3b4962ac-e58b-4ab1-9548-83acf77773d6"
      },
      "id": "dz9ansOrwyeo",
      "execution_count": 1,
      "outputs": [
        {
          "output_type": "stream",
          "name": "stdout",
          "text": [
            "Mounted at /content/drive\n"
          ]
        }
      ]
    },
    {
      "cell_type": "code",
      "execution_count": 3,
      "id": "35beef5e",
      "metadata": {
        "id": "35beef5e"
      },
      "outputs": [],
      "source": [
        "source_path=r\"/content/drive/MyDrive/FIFA18_official_data.csv\"\n",
        "players=pd.read_csv(source_path)"
      ]
    },
    {
      "cell_type": "markdown",
      "id": "53ebe934",
      "metadata": {
        "id": "53ebe934"
      },
      "source": [
        "## Displaying column names from the data frame"
      ]
    },
    {
      "cell_type": "code",
      "execution_count": 4,
      "id": "02f23b06",
      "metadata": {
        "colab": {
          "base_uri": "https://localhost:8080/"
        },
        "id": "02f23b06",
        "outputId": "e1f5d4ac-5b51-4cf7-a8ca-7b17f4f6d05f"
      },
      "outputs": [
        {
          "output_type": "stream",
          "name": "stdout",
          "text": [
            "Index(['ID', 'Name', 'Age', 'Photo', 'Nationality', 'Flag', 'Overall',\n",
            "       'Potential', 'Club', 'Club Logo', 'Value', 'Wage', 'Special',\n",
            "       'Preferred Foot', 'International Reputation', 'Weak Foot',\n",
            "       'Skill Moves', 'Work Rate', 'Body Type', 'Real Face', 'Position',\n",
            "       'Jersey Number', 'Joined', 'Loaned From', 'Contract Valid Until',\n",
            "       'Height', 'Weight', 'Crossing', 'Finishing', 'HeadingAccuracy',\n",
            "       'ShortPassing', 'Volleys', 'Dribbling', 'Curve', 'FKAccuracy',\n",
            "       'LongPassing', 'BallControl', 'Acceleration', 'SprintSpeed', 'Agility',\n",
            "       'Reactions', 'Balance', 'ShotPower', 'Jumping', 'Stamina', 'Strength',\n",
            "       'LongShots', 'Aggression', 'Interceptions', 'Positioning', 'Vision',\n",
            "       'Penalties', 'Composure', 'Marking', 'StandingTackle', 'SlidingTackle',\n",
            "       'GKDiving', 'GKHandling', 'GKKicking', 'GKPositioning', 'GKReflexes',\n",
            "       'Best Position', 'Best Overall Rating', 'Release Clause'],\n",
            "      dtype='object')\n"
          ]
        }
      ],
      "source": [
        "print(players.columns)"
      ]
    },
    {
      "cell_type": "markdown",
      "id": "7b2a312e",
      "metadata": {
        "id": "7b2a312e"
      },
      "source": [
        "## Dropping the irrelevant data from the players attributes"
      ]
    },
    {
      "cell_type": "code",
      "execution_count": 5,
      "id": "2cd84b11",
      "metadata": {
        "colab": {
          "base_uri": "https://localhost:8080/"
        },
        "id": "2cd84b11",
        "outputId": "b1aa429e-d263-4650-9f68-eb7e4b182a97"
      },
      "outputs": [
        {
          "output_type": "stream",
          "name": "stdout",
          "text": [
            "Index(['Name', 'Age', 'Photo', 'Nationality', 'Overall', 'Potential', 'Club',\n",
            "       'Value', 'Wage', 'Preferred Foot', 'International Reputation',\n",
            "       'Weak Foot', 'Skill Moves', 'Work Rate', 'Body Type', 'Position',\n",
            "       'Jersey Number', 'Joined', 'Loaned From', 'Contract Valid Until',\n",
            "       'Height', 'Weight', 'Crossing', 'Finishing', 'HeadingAccuracy',\n",
            "       'ShortPassing', 'Volleys', 'Dribbling', 'Curve', 'FKAccuracy',\n",
            "       'LongPassing', 'BallControl', 'Acceleration', 'SprintSpeed', 'Agility',\n",
            "       'Reactions', 'Balance', 'ShotPower', 'Jumping', 'Stamina', 'Strength',\n",
            "       'LongShots', 'Aggression', 'Interceptions', 'Positioning', 'Vision',\n",
            "       'Penalties', 'Composure', 'Marking', 'StandingTackle', 'SlidingTackle',\n",
            "       'GKDiving', 'GKHandling', 'GKKicking', 'GKPositioning', 'GKReflexes',\n",
            "       'Best Position', 'Best Overall Rating', 'Release Clause'],\n",
            "      dtype='object')\n"
          ]
        }
      ],
      "source": [
        "drop_list=['ID','Flag','Special','Real Face','Club Logo']\n",
        "\n",
        "players.drop(drop_list,inplace=True,axis=1)\n",
        "print(players.columns)"
      ]
    },
    {
      "cell_type": "code",
      "execution_count": 6,
      "id": "87734b9a",
      "metadata": {
        "id": "87734b9a"
      },
      "outputs": [],
      "source": [
        "def position_dataframe(players):\n",
        "    '''\n",
        "    Removing NANs from the dataframe, converting the scraped text for position\n",
        "    into interpretable ones.\n",
        "    '''\n",
        "    # Dropping the rows with Nan's in position column from the main dataframe \n",
        "    players=players[players['Position'].notna()]\n",
        "    print(\"Check if there are nans: \",players['Position'].isnull().values.any()) \n",
        "    \n",
        "    # Removing unnecessary info from the positions column\n",
        "    pos=players['Position']\n",
        "    post=pos.tolist()\n",
        "    a=[]\n",
        "    for i in range(len(post)):\n",
        "        ind=post[i].index('>')\n",
        "        a.append(post[i][ind+1:])\n",
        "    posit=pd.DataFrame(a,columns=['Position'])\n",
        "\n",
        "    # Deleting position column from the main data frame\n",
        "    del players['Position']\n",
        "    \n",
        "    # concating the refined position column in the main dataframe\n",
        "    players=pd.concat([players, posit], axis=1)\n",
        "    \n",
        "    # Dropping the nans in Position column\n",
        "    players=players[players['Position'].notna()]\n",
        "    \n",
        "    return players"
      ]
    },
    {
      "cell_type": "code",
      "execution_count": 7,
      "id": "1a2cee32",
      "metadata": {
        "id": "1a2cee32"
      },
      "outputs": [],
      "source": [
        "def refining_dataframe(df):\n",
        "    ''' \n",
        "    Removing NANs from the respective columns :\n",
        "    'Preferred Foot' ,'Work Rate', 'Body Type'\n",
        "    '''\n",
        "    df1=df[df['Preferred Foot'].notna()]\n",
        "    df2=df1[df1['Work Rate'].notna()]\n",
        "    df3=df2[df2['Body Type'].notna()]\n",
        "    \n",
        "    return df3"
      ]
    },
    {
      "cell_type": "code",
      "execution_count": 8,
      "id": "f54a60a4",
      "metadata": {
        "colab": {
          "base_uri": "https://localhost:8080/"
        },
        "id": "f54a60a4",
        "outputId": "ffcf6bce-62db-4d7c-9ad7-efad003086c5"
      },
      "outputs": [
        {
          "output_type": "stream",
          "name": "stdout",
          "text": [
            "Check if there are nans:  False\n",
            "Index(['Name', 'Age', 'Photo', 'Nationality', 'Overall', 'Potential', 'Club',\n",
            "       'Value', 'Wage', 'Preferred Foot', 'International Reputation',\n",
            "       'Weak Foot', 'Skill Moves', 'Work Rate', 'Body Type', 'Jersey Number',\n",
            "       'Joined', 'Loaned From', 'Contract Valid Until', 'Height', 'Weight',\n",
            "       'Crossing', 'Finishing', 'HeadingAccuracy', 'ShortPassing', 'Volleys',\n",
            "       'Dribbling', 'Curve', 'FKAccuracy', 'LongPassing', 'BallControl',\n",
            "       'Acceleration', 'SprintSpeed', 'Agility', 'Reactions', 'Balance',\n",
            "       'ShotPower', 'Jumping', 'Stamina', 'Strength', 'LongShots',\n",
            "       'Aggression', 'Interceptions', 'Positioning', 'Vision', 'Penalties',\n",
            "       'Composure', 'Marking', 'StandingTackle', 'SlidingTackle', 'GKDiving',\n",
            "       'GKHandling', 'GKKicking', 'GKPositioning', 'GKReflexes',\n",
            "       'Best Position', 'Best Overall Rating', 'Release Clause', 'Position'],\n",
            "      dtype='object')\n"
          ]
        }
      ],
      "source": [
        "'''\n",
        "Modifying the positions column for the main dataframe.\n",
        "'''\n",
        "# Use players_refined for future operations\n",
        "\n",
        "players_refined = position_dataframe(players)\n",
        "print(players_refined.columns)"
      ]
    },
    {
      "cell_type": "code",
      "execution_count": 9,
      "id": "132ecc79",
      "metadata": {
        "id": "132ecc79"
      },
      "outputs": [],
      "source": [
        "# Refining the dataframe further with relevant categorical datatypes\n",
        "players_refined=refining_dataframe(players_refined)"
      ]
    },
    {
      "cell_type": "code",
      "execution_count": 47,
      "id": "454b3f4d",
      "metadata": {
        "id": "454b3f4d"
      },
      "outputs": [],
      "source": [
        "# making a copy of refined players data frame\n",
        "test=players_refined.copy()\n",
        "# Dropping the Best Position column, as it is not revelant for analysis\n",
        "test.drop(['Best Position'],inplace=True,axis=1)"
      ]
    },
    {
      "cell_type": "code",
      "execution_count": 48,
      "id": "c6e886cc",
      "metadata": {
        "id": "c6e886cc"
      },
      "outputs": [],
      "source": [
        "def categorical_marking(df):\n",
        "    '''\n",
        "    This function takes the input as the column of the data frame \n",
        "    and returns the categorically marked column dataframe\n",
        "    '''\n",
        "    #Finding the list of unique features in the categorical column dataframe\n",
        "    unq_list=df.unique()\n",
        "    # Assigning integer markings to the unique features\n",
        "    arange=[i for i in range(len(unq_list))]\n",
        "    dicti= dict(zip(unq_list,arange))\n",
        "    df_list=df.tolist()\n",
        "    df_final=[]\n",
        "    \n",
        "    for i in range(len(df_list)):\n",
        "        df_final.append(dicti[df_list[i]])\n",
        "    return pd.DataFrame(df_final)"
      ]
    },
    {
      "cell_type": "code",
      "execution_count": 49,
      "id": "60b24345",
      "metadata": {
        "id": "60b24345"
      },
      "outputs": [],
      "source": [
        "# These are the columns that must be included into the test dataframe, these are categorically marked\n",
        "hot_body=categorical_marking(test['Body Type'])\n",
        "hot_foot=categorical_marking(test['Preferred Foot'])\n",
        "hot_work=categorical_marking(test['Work Rate'])\n",
        "hot_posi=categorical_marking(test['Position'])\n",
        "# Appending the above categorically marked columns into single dataframe and naming the columns\n",
        "cat_cols=pd.concat([hot_body,hot_work,hot_foot,hot_posi],axis=1)\n",
        "cat_cols.columns=['Body Type','Work Rate','Preferred Foot','Position']"
      ]
    },
    {
      "cell_type": "code",
      "execution_count": 50,
      "id": "ff52289b",
      "metadata": {
        "id": "ff52289b"
      },
      "outputs": [],
      "source": [
        "# Excluding the players who's current position is either reserves or substitutes\n",
        "res_sub=['RES','SUB']\n",
        "test=test[~test.Position.isin(res_sub)]"
      ]
    },
    {
      "cell_type": "code",
      "source": [
        "# Extracting the dataframe containing only the numeric data from the main dataframe\n",
        "test_numeric=test.select_dtypes([np.number])"
      ],
      "metadata": {
        "id": "wgS5GnzozQ-4"
      },
      "id": "wgS5GnzozQ-4",
      "execution_count": 51,
      "outputs": []
    },
    {
      "cell_type": "code",
      "source": [
        "# Concatenating the categorically marked columns to the numeric dataframe\n",
        "test_numeric=pd.concat([test_numeric,cat_cols],axis=1)\n",
        "print(test_numeric.head())\n",
        "print(\"The number of players in test_numeric dataframe:\",len(test_numeric))"
      ],
      "metadata": {
        "colab": {
          "base_uri": "https://localhost:8080/"
        },
        "id": "wXpkLaV8zjkN",
        "outputId": "e009ba51-5b01-44c4-977c-18790af9e83f"
      },
      "id": "wXpkLaV8zjkN",
      "execution_count": 53,
      "outputs": [
        {
          "output_type": "stream",
          "name": "stdout",
          "text": [
            "    Age  Overall  Potential  International Reputation  Weak Foot  Skill Moves  \\\n",
            "0  30.0     92.0       92.0                       5.0        4.0          4.0   \n",
            "1  29.0     86.0       86.0                       3.0        3.0          3.0   \n",
            "2  26.0     82.0       83.0                       3.0        3.0          3.0   \n",
            "3  25.0     85.0       87.0                       4.0        4.0          3.0   \n",
            "4  24.0     88.0       92.0                       4.0        4.0          5.0   \n",
            "\n",
            "   Jersey Number  Crossing  Finishing  HeadingAccuracy  ...  GKReflexes  \\\n",
            "0            9.0      77.0       94.0             77.0  ...        37.0   \n",
            "1            4.0      73.0       76.0             59.0  ...        11.0   \n",
            "2           24.0      77.0       76.0             70.0  ...        10.0   \n",
            "3           27.0      81.0       63.0             75.0  ...         9.0   \n",
            "4            6.0      80.0       73.0             75.0  ...         3.0   \n",
            "\n",
            "   Best Overall Rating  Body Type  Work Rate  Preferred Foot  Position  \\\n",
            "0                 88.0          0          0               0         0   \n",
            "1                 84.0          1          1               0         1   \n",
            "2                 81.0          2          0               0         2   \n",
            "3                 82.0          2          0               1         3   \n",
            "4                 85.0          3          2               0         4   \n",
            "\n",
            "   Body Type  Work Rate  Preferred Foot  Position  \n",
            "0          0          0               0         0  \n",
            "1          1          1               0         1  \n",
            "2          2          0               0         2  \n",
            "3          2          0               1         3  \n",
            "4          3          2               0         4  \n",
            "\n",
            "[5 rows x 50 columns]\n",
            "The number of players in test_numeric dataframe: 17889\n"
          ]
        }
      ]
    },
    {
      "cell_type": "code",
      "source": [
        "# Checking if there are any NaNs in the test_numeric dataframe\n",
        "print(\"Checking if there are any Nans in the dataframe:\",test_numeric.isnull().values.any())\n",
        "# Finding the columns which have NaNs in the test_numeric dataframe\n",
        "nan_columns = test_numeric.columns[test_numeric.isna().any()].tolist()\n",
        "print(\"The number of columns which have nans are :\", len(nan_columns))\n",
        "# "
      ],
      "metadata": {
        "colab": {
          "base_uri": "https://localhost:8080/"
        },
        "id": "RVJncfVX3NZG",
        "outputId": "08e2c212-55fa-460d-cc84-aa25b6385582"
      },
      "id": "RVJncfVX3NZG",
      "execution_count": 54,
      "outputs": [
        {
          "output_type": "stream",
          "name": "stdout",
          "text": [
            "Checking if there are any Nans in the dataframe: True\n",
            "The number of columns which have nans are : 42\n"
          ]
        }
      ]
    },
    {
      "cell_type": "code",
      "source": [
        "# this is indicating that all the columns have nans in the test_numeric dataframe, now drop the rows with nans\n",
        "print(\"Dropping the rows which have NaN values\")\n",
        "test_numeric=test_numeric.dropna()\n",
        "print(\"Checking if there are any Nans in the dataframe:\",test_numeric.isnull().values.any())\n",
        "print(\"The number of rows after removing Nans:\",len(test_numeric))"
      ],
      "metadata": {
        "colab": {
          "base_uri": "https://localhost:8080/"
        },
        "id": "QfT4B09847Xu",
        "outputId": "28e76a57-92f5-477b-9b78-49df19776c3e"
      },
      "id": "QfT4B09847Xu",
      "execution_count": 55,
      "outputs": [
        {
          "output_type": "stream",
          "name": "stdout",
          "text": [
            "Dropping the rows which have NaN values\n",
            "Checking if there are any Nans in the dataframe: False\n",
            "The number of rows after removing Nans: 7143\n"
          ]
        }
      ]
    },
    {
      "cell_type": "markdown",
      "id": "334d4ac8",
      "metadata": {
        "id": "334d4ac8"
      },
      "source": [
        "# Numeric data"
      ]
    },
    {
      "cell_type": "code",
      "source": [
        "# Printing the names of the columns in the test_numeric dataframe\n",
        "print(test_numeric.columns)"
      ],
      "metadata": {
        "colab": {
          "base_uri": "https://localhost:8080/"
        },
        "id": "LmcTWYGZ6lEG",
        "outputId": "f4de54e7-0a2c-437c-e598-feeb5e242d4a"
      },
      "id": "LmcTWYGZ6lEG",
      "execution_count": 56,
      "outputs": [
        {
          "output_type": "stream",
          "name": "stdout",
          "text": [
            "Index(['Age', 'Overall', 'Potential', 'International Reputation', 'Weak Foot',\n",
            "       'Skill Moves', 'Jersey Number', 'Crossing', 'Finishing',\n",
            "       'HeadingAccuracy', 'ShortPassing', 'Volleys', 'Dribbling', 'Curve',\n",
            "       'FKAccuracy', 'LongPassing', 'BallControl', 'Acceleration',\n",
            "       'SprintSpeed', 'Agility', 'Reactions', 'Balance', 'ShotPower',\n",
            "       'Jumping', 'Stamina', 'Strength', 'LongShots', 'Aggression',\n",
            "       'Interceptions', 'Positioning', 'Vision', 'Penalties', 'Composure',\n",
            "       'Marking', 'StandingTackle', 'SlidingTackle', 'GKDiving', 'GKHandling',\n",
            "       'GKKicking', 'GKPositioning', 'GKReflexes', 'Best Overall Rating',\n",
            "       'Body Type', 'Work Rate', 'Preferred Foot', 'Position', 'Body Type',\n",
            "       'Work Rate', 'Preferred Foot', 'Position'],\n",
            "      dtype='object')\n"
          ]
        }
      ]
    },
    {
      "cell_type": "code",
      "source": [
        "'''\n",
        "Performing Kmeans clustering on the numeric data to find the clusters in the given data\n",
        "'''\n",
        "# standardising the numeric data available\n",
        "scaler=ss()\n",
        "scaler.fit(test_numeric)\n",
        "test_scaled=scaler.transform(test_numeric)\n",
        "print(test_scaled)"
      ],
      "metadata": {
        "colab": {
          "base_uri": "https://localhost:8080/"
        },
        "id": "nyHIZzTS6-Ke",
        "outputId": "d4907ccc-9bea-440f-d58e-e80a74591f3d"
      },
      "id": "nyHIZzTS6-Ke",
      "execution_count": 59,
      "outputs": [
        {
          "output_type": "stream",
          "name": "stdout",
          "text": [
            "[[ 1.02818921  3.5505257   3.20782783 ... -1.49247437 -0.57373994\n",
            "  -1.48239702]\n",
            " [ 0.80882375  2.66001129  2.23523341 ... -0.91415472 -0.57373994\n",
            "  -1.32528674]\n",
            " [ 0.15072738  2.06633502  1.74893619 ... -1.49247437 -0.57373994\n",
            "  -1.16817645]\n",
            " ...\n",
            " [-1.82356174 -2.23781795 -0.19625266 ...  0.24248458 -0.57373994\n",
            "  -0.53973531]\n",
            " [-1.60419628 -1.79256075 -1.00674802 ...  0.24248458 -0.57373994\n",
            "   0.40292641]\n",
            " [-1.82356174 -2.38623702 -0.19625266 ...  0.24248458 -0.57373994\n",
            "  -0.53973531]]\n"
          ]
        }
      ]
    },
    {
      "cell_type": "code",
      "source": [],
      "metadata": {
        "id": "uNdfTa2R76Lm"
      },
      "id": "uNdfTa2R76Lm",
      "execution_count": null,
      "outputs": []
    },
    {
      "cell_type": "markdown",
      "id": "9ef2e2ea",
      "metadata": {
        "id": "9ef2e2ea"
      },
      "source": [
        "## Creating a database for Real Madrid for analysis"
      ]
    },
    {
      "cell_type": "code",
      "execution_count": null,
      "id": "b3af580e",
      "metadata": {
        "id": "b3af580e",
        "outputId": "806df35e-0ab9-4824-b2a5-71e9178d2701"
      },
      "outputs": [
        {
          "name": "stdout",
          "output_type": "stream",
          "text": [
            "Number of clubs in the database: 634\n",
            "\n",
            "The number of players in each club in the database:\n",
            "Club\n",
            "1. FC Heidenheim    25\n",
            "1. FC Köln          26\n",
            "1. FC Nürnberg      28\n",
            "1. FSV Mainz 05     32\n",
            "1860 München        28\n",
            "                    ..\n",
            "Águilas Doradas     28\n",
            "Çaykur Rizespor     30\n",
            "Örebro SK           23\n",
            "Östersunds FK       23\n",
            "Śląsk Wrocław       23\n",
            "Length: 634, dtype: int64\n"
          ]
        }
      ],
      "source": [
        "# Finding the number of clubs in the database\n",
        "club_list=(pd.unique(players['Club']))\n",
        "print(\"Number of clubs in the database:\",len(club_list))\n",
        "club='Club'\n",
        "club_count=players.groupby(club).size()\n",
        "print(\"\\nThe number of players in each club in the database:\")\n",
        "print(club_count)"
      ]
    },
    {
      "cell_type": "code",
      "execution_count": null,
      "id": "ea6eb208",
      "metadata": {
        "id": "ea6eb208",
        "outputId": "4340e796-7a80-46eb-eab1-a750695117a1"
      },
      "outputs": [
        {
          "name": "stdout",
          "output_type": "stream",
          "text": [
            "['Real Madrid' 'FC Barcelona' 'FC Bayern' 'Manchester Utd' 'Chelsea'\n",
            " 'Arsenal' 'Juventus' 'PSG' 'Manchester City' 'Atlético Madrid'\n",
            " 'Bor. Dortmund' 'Spurs' 'Inter' 'Bayer 04' 'Liverpool' 'Roma'\n",
            " 'Olym. Lyonnais' 'Everton' 'Olym. Marseille' 'Napoli' 'AS Saint-Étienne'\n",
            " 'Athletic Bilbao' 'Leicester City' 'AS Monaco' 'Villarreal CF'\n",
            " 'FC Schalke 04' 'Crystal Palace' 'Real Sociedad' 'Milan' 'Sporting CP'\n",
            " 'FC Porto' '1. FC Köln' 'Sevilla FC' 'Genoa' 'Celta Vigo' 'Free Agents'\n",
            " 'Toronto FC' \"Bor. M'gladbach\" 'SL Benfica' 'West Ham' 'Valencia CF'\n",
            " 'Fiorentina' 'Torino' 'Galatasaray' 'Beşiktaş' 'UD Las Palmas'\n",
            " 'Southampton' 'Stoke City' 'Sassuolo' 'Lazio' 'VfL Wolfsburg'\n",
            " 'Bournemouth' 'Shakhtar Donetsk' 'Zenit' 'Swansea City' 'Udinese'\n",
            " 'Lokomotiv Moscow' 'Sampdoria' 'Stade Rennais' 'RCD Espanyol' 'Atalanta'\n",
            " 'LOSC Lille' 'Orlando City' 'NYCFC' 'Middlesbrough' '1899 Hoffenheim'\n",
            " 'Spartak Moscow' 'Watford' 'Eint. Frankfurt' 'West Brom' 'Málaga CF'\n",
            " 'CSKA Moscow' 'OGC Nice' 'Fenerbahçe' 'Real Betis' '1. FSV Mainz 05'\n",
            " 'LA Galaxy' 'Hertha BSC' 'Tigres' 'Giron. Bordeaux' 'Sunderland'\n",
            " 'Free agent' 'Antalyaspor' 'Ajax' 'RB Leipzig' 'FC Augsburg'\n",
            " 'Montpellier HSC' 'FC Krasnodar' 'FC Rostov' 'Werder Bremen' 'PSV'\n",
            " 'CA Osasuna' 'San Lorenzo' 'Bologna' 'Chicago Fire' 'Hamburger SV'\n",
            " 'Chievo Verona' 'RC Deportivo' 'Al Ahli' 'SD Eibar' 'SC Braga'\n",
            " 'Medipol Başakşehir' 'Feyenoord' 'FC Lorient' 'Sounders FC' 'Toulouse FC'\n",
            " 'Rubin Kazan' 'Hull City' 'FC Basel' 'Panathinaikos' 'Montreal Impact'\n",
            " 'Portland' 'Bursaspor' 'Necaxa' 'Racing Club' 'Granada CF' 'Cagliari'\n",
            " 'Djurgårdens IF' 'Colorado Rapids' 'Sporting Gijón' 'Angers SCO'\n",
            " 'Club Brugge' 'Levante UD' 'River Plate' 'Querétaro' 'Burnley'\n",
            " 'Monterrey' 'Olympiakos CFP' 'Hannover 96' 'América' 'RSC Anderlecht'\n",
            " 'KRC Genk' 'Rosario Central' 'Whitecaps FC' 'Trabzonspor' 'Akhisarspor'\n",
            " 'Empoli' 'Uni. Católica' 'AZ' 'Kalmar FF' 'VfB Stuttgart'\n",
            " 'Aytemiz Alanyaspor' 'EA Guingamp' 'Ponte Preta' 'Goiás' 'Internacional'\n",
            " 'Coritiba' 'Botafogo' 'Chapecoense' 'Atl. Paranaense' 'Deport. Alavés'\n",
            " 'Independiente' 'Pachuca' 'Osmanlıspor' 'Boca Juniors' 'Lanús'\n",
            " 'Atl. Nacional' 'FC Nantes' 'Indep. Medellín' 'CD Leganés'\n",
            " 'SC Heerenveen' 'FC Utrecht' 'Rio Ave' 'FC København' 'Vitesse'\n",
            " 'Newcastle Utd' 'FC Dallas' 'Legia Warszawa' 'Estudiantes'\n",
            " 'Kaizer Chiefs' 'León' 'Toluca' 'Colo-Colo' 'FC St. Gallen' 'KV Oostende'\n",
            " 'SM Caen' 'Criciúma' 'Sport' 'Santos' 'Grêmio' 'Figueirense' 'Palmeiras'\n",
            " 'A. Minas G.' 'V. Guimarães' 'Standard Liège' 'SV Darmstadt' 'Nacional'\n",
            " 'SC Freiburg' 'U.N.A.M.' 'Monarcas Morelia' 'Santos Laguna' 'Boavista'\n",
            " 'Ind. Santa Fe' 'Wolves' 'PAOK' 'Birmingham City' 'Dijon FCO' 'Brighton'\n",
            " 'Norwich' 'Fulham' 'Huddersfield' 'Konyaspor' 'Leeds United'\n",
            " 'FC Ingolstadt' 'Frosinone' 'Anzhi Makhachkala' 'Çaykur Rizespor'\n",
            " 'Melbourne City' 'Aston Villa' 'Orlando Pirates' 'FC Metz' 'Marítimo'\n",
            " 'FC Seoul' 'BSC Young Boys' 'FC Ufa' '1860 München' 'Suwon Bluewings'\n",
            " 'NY Red Bulls' 'Sheffield Wed' 'Celtic' 'KAA Gent' 'FC Orenburg'\n",
            " 'Grasshopper' 'Rayo Vallecano' 'Cruz Azul' 'SC Bastia' 'Arsenal Tula'\n",
            " 'Perth Glory' 'Hellas Verona' 'Bari' 'Gimnàstic' 'Real Salt Lake'\n",
            " 'Vitória' 'Santa Cruz' 'Joinville' 'São Paulo' 'Cruzeiro' 'Fluminense'\n",
            " 'Guadalajara' 'Sanfrecce Hiroshima' 'Ulsan Hyundai' 'Al Hilal'\n",
            " 'Stade de Reims' 'Kayserispor' 'Tijuana' 'Deportivo Cali' 'Sporting KC'\n",
            " 'Real Valladolid' 'Palermo' 'Derby County' 'Zulte-Waregem' 'Reading'\n",
            " 'Sagan Tosu' 'Roda JC' 'Paços Ferreira' 'Brentford' 'QPR' 'UD Almería'\n",
            " 'Gençlerbirliği' 'D.C. United' 'Uni. de Chile' 'Melb. Victory'\n",
            " 'Belenenses' 'FC Groningen' 'FC Twente' 'Belgrano' 'FC Sion' 'Kasimpaşa'\n",
            " 'V. Setúbal' 'New England' 'Columbus Crew SC' 'Terek Grozny' 'Preston'\n",
            " 'Banfield' 'Brisbane Roar' 'Pescara' 'Jeonbuk Hyundai' 'F. Düsseldorf'\n",
            " 'RC Lens' \"Newell's\" 'Cardiff City' 'Atlético Mineiro' 'Veracruz'\n",
            " 'Excelsior' 'US Orléans' 'Union Berlin' 'Godoy Cruz' '1. FC Heidenheim'\n",
            " 'Atlas' 'F. Santa Maria' 'Gamba Osaka' 'Chaves' 'Benevento' 'Chiapas'\n",
            " 'Getafe CF' 'Córdoba CF' 'Sangju Sangmu' 'SD Huesca' 'Sydney FC'\n",
            " 'Urawa Diamonds' 'Adanaspor' '1. FC Nürnberg' 'Gaziantepspor'\n",
            " 'RB Salzburg' 'Philadelphia' 'Karabükspor' 'CD Tenerife' 'Real Oviedo'\n",
            " 'Al Ittihad' 'Girona CF' 'Kawasaki Front.' 'Lech Poznań' 'Arouca'\n",
            " 'Vercelli' 'Terni' 'Stade Lavallois' 'Junior' 'Kashima Antlers'\n",
            " 'Rosenborg BK' 'Real Zaragoza' 'VfL Bochum' 'Spal' 'Al Qadisiyah'\n",
            " 'Puebla' \"Nott'm Forest\" 'Vélez Sarsfield' 'Al Taawoun' 'Bury'\n",
            " 'GFC Ajaccio' 'Krylya Sovetov' 'IFK Norrköping' 'FC Luzern'\n",
            " 'Sp. Charleroi' 'Atlético Tucumán' 'Once Caldas' 'Vasco da Gama'\n",
            " 'Parque Patricios' 'FC Sochaux' 'Unión' 'Unión Española' 'FC Tokyo'\n",
            " 'Santa Fe' 'Sevilla Atlét.' 'Vissel Kobe' 'Carpi' 'Tigre'\n",
            " 'Uni. Concepción' 'Cortuluá' 'G. La Plata' 'Al Nassr' 'Deportes Tolima'\n",
            " 'Millonarios' 'Al. Petrolera' 'Braunschweig' 'Al Shabab' 'SK Rapid Wien'\n",
            " 'FC Ural' 'Kashiwa Reysol' 'Kaiserslautern' 'Vålerenga Fotball'\n",
            " 'Amkar Perm' 'Cesena' 'Malmö FF' 'Crotone' 'CD Lugo' 'Ipswich'\n",
            " 'KV Kortrijk' 'FC St. Pauli' 'N.E.C.' 'BK Häcken' 'FC Midtjylland'\n",
            " 'Cádiz C.F.' 'Novara' 'CD Palestino' 'IFK Göteborg' 'AC Ajaccio'\n",
            " 'Jagiellonia' 'Wisła Kraków' 'AD Alcorcón' 'Al Fateh' 'FC Lausanne'\n",
            " 'Austria Wien' 'Depor. Iquique' 'Rangers' 'CA Talleres' 'Salerno'\n",
            " 'La Spezia' 'Brescia' 'Iwata' 'ES Troyes AC' 'KAS Eupen' 'Bristol City'\n",
            " 'Avaí' 'AS Nancy' 'Fl. Varela' 'Elche CF' 'Tondela' 'Karlsruher SC'\n",
            " 'Vegalta Sendai' 'CD Numancia' 'Yokohama F. Marinos'\n",
            " 'Atlético Bucaramanga' 'Águilas Doradas' 'Wanderers' 'Moreirense'\n",
            " 'Estoril Praia' 'Patronato' \"CD O'Higgins\" 'UCAM Murcia' 'Sint-Truiden'\n",
            " 'WS Wanderers' 'Brøndby IF' 'Heracles Almelo' 'Pogoń Szczecin'\n",
            " 'SV Sandhausen' 'Hamilton' 'Nîmes Olympique' 'Junín' 'CF Reus Deportiu'\n",
            " 'AIK' 'Greuther Fürth' 'Le Havre AC' 'Cracovia' 'Houston Dynamo'\n",
            " 'Lechia Gdańsk' 'RCD Mallorca' 'Randers FC' 'La Equidad' 'Jeju United'\n",
            " 'SJ Earthquakes' 'Hammarby IF' 'Audax Italiano' 'Wigan Athletic'\n",
            " 'San Juan' 'RC Strasbourg' 'Bolton' 'Waasl. Beveren' 'Pohang Steelers'\n",
            " 'KV Mechelen' 'CD Antofagasta' 'Latina' 'Pisa' 'Avellino' 'ADO Den Haag'\n",
            " 'Aberdeen' 'Odds BK' 'Quilmes' 'Sarandí' 'IF Elfsborg' 'Sport. Lokeren'\n",
            " 'SK Sturm Graz' 'AJ Auxerre' 'Seongnam FC' 'Hearts' 'KVC Westerlo'\n",
            " 'San Luis' 'CD Everton' 'Al Khaleej' 'Perugia' 'Albirex Niigata'\n",
            " 'Adelaide United' 'Oldham Athletic' 'Jeonnam Dragons' 'Vicenza'\n",
            " 'Deportes Temuco' 'AC Horsens' 'Strømsgodset IF' 'Arminia Bielefeld'\n",
            " 'CD Mirandés' 'Trapani' 'Brisigonza' 'Charlton Ath' 'PEC Zwolle'\n",
            " 'Blackburn Rovers' 'FC Vaduz' 'SønderjyskE' 'Molde FK' 'Willem II'\n",
            " 'Lyngby BK' 'Borgocalcio' 'Bourg-Péronnas' 'Barnsley' 'Viking FK'\n",
            " 'Envigado' 'Incheon United' 'FC Tom Tomsk' 'Fleetwood Town' 'Rafaela'\n",
            " 'CD Huachipato' 'Atlético Huila' 'CD Cobresal' 'Würzburger Kickers'\n",
            " 'Stade Brestois' 'Tours FC' 'Stabæk Fotball' 'Clermont Foot'\n",
            " \"Sparta R'dam\" 'Piast Gliwice' 'Red Star FC' 'FC Nordsjælland'\n",
            " 'Ross County' 'Go Ahead Eagles' 'Aalborg BK' 'Well. Phoenix'\n",
            " 'Rotherham Utd' 'Dynamo Dresden' 'SK Brann' 'Al Batin' 'Odense BK'\n",
            " 'Erzgebirge Aue' 'Shonan Bellmare' 'Burton Albion' 'Port Vale'\n",
            " 'Esbjerg fB' 'Aarhus GF' 'Östersunds FK' 'Patriotas' 'Mar del Plata'\n",
            " 'Royal Mouscron' 'Nagoya' 'Zagłębie Lubin' 'Wisła Płock' 'HJK Helsinki'\n",
            " 'Śląsk Wrocław' 'Aalesunds FK' 'Amiens SC' 'Leyton Orient' 'Millwall'\n",
            " 'Cittadella' 'Sheffield Utd' 'Suwon FC' 'Chesterfield' 'Crawley Town'\n",
            " 'Deportivo Pasto' 'Korona Kielce' 'Cham. Niortais' 'Bristol Rovers'\n",
            " 'MK Dons' 'Valenciennes FC' 'Rochdale' 'Kilmarnock' 'Al Raed'\n",
            " 'SCR Altach' 'Southend United' 'Inverness CT' 'Boyacá Chicó'\n",
            " 'Omiya Ardija' 'Al-Ettifaq' 'Temperley' 'Arka Gdynia' 'Walsall'\n",
            " 'Al Faisaly' 'Bahía Blanca' 'Ventforet Kofu' 'Jaguares' 'Sogndal'\n",
            " 'Gillingham' 'Silkeborg IF' 'Sarpsborg 08 FF' 'Al Wehda' 'Swindon Town'\n",
            " 'Oxford United' 'Plymouth Argyle' 'St. Johnstone' 'Dundee FC'\n",
            " 'Lillestrøm SK' 'Górnik Łęczna' 'Doncaster' 'Portsmouth' 'Bradford City'\n",
            " 'Peterborough' 'Motherwell' 'Luton Town' 'Coventry City' 'Northampton'\n",
            " 'GwangJu FC' 'Termalica' 'Jönköpings Södra IF' 'SV Mattersburg'\n",
            " 'SKN St. Pölten' 'FK Haugesund' 'FC Lugano' 'Ruch Chorzów' 'Colchester'\n",
            " 'Scunthorpe Utd' 'Tromsø IL' 'Örebro SK' 'Viborg FF' 'Partick Thistle'\n",
            " 'St. Pats' 'Avispa Fukuoka' 'Shrewsbury' 'Wycombe' 'FK Bodø/Glimt'\n",
            " 'FC Thun' 'Blackpool' 'Wolfsberger AC' 'Notts County' 'IK Start'\n",
            " 'Admira Wacker' 'SV Ried' 'Helsingborgs IF' 'GIF Sundsvall' 'Morecambe'\n",
            " 'AFC Wimbledon' 'Carlisle United' 'Grimsby Town' 'Cork City'\n",
            " 'Newcastle Jets' 'Central Coast' 'Fortaleza FC' 'Exeter City'\n",
            " 'Crewe Alexandra' 'Cheltenham Town' 'Finn Harps' 'Stevenage'\n",
            " 'Cambridge Utd' 'Dundalk' 'Mansfield Town' 'Yeovil Town'\n",
            " 'Shamrock Rovers' 'Barnet' 'Newport County' 'Hartlepool' 'Accrington'\n",
            " 'Gefle IF' 'Sligo Rovers' 'Falkenbergs FF' 'Derry City' 'Bohemian FC'\n",
            " 'Bray Wanderers' 'Galway United' 'Wexford Youths' 'Longford Town']\n"
          ]
        }
      ],
      "source": [
        "print(club_list)"
      ]
    },
    {
      "cell_type": "markdown",
      "id": "371a9210",
      "metadata": {
        "id": "371a9210"
      },
      "source": [
        "## Analysing players of the club"
      ]
    },
    {
      "cell_type": "code",
      "execution_count": null,
      "id": "9915a2ae",
      "metadata": {
        "id": "9915a2ae"
      },
      "outputs": [],
      "source": [
        "def return_club_data(players,club_name):\n",
        "    # extracting the details of the players for the respective club\n",
        "    main_clubs=[club_name]\n",
        "    club=players[players['Club'].isin(main_clubs)]\n",
        "    \n",
        "    # Creating different dataframes for subsitutes, reserve players and starting \n",
        "    subs=['Sub']\n",
        "    res =['Res']\n",
        "    start=subs+res\n",
        "    drop_list=['Club_Position']\n",
        "    \n",
        "    starting     =club[~club['Club_Position'].isin(start)]\n",
        "    \n",
        "    substitutes  =club[club['Club_Position'].isin(subs)]\n",
        "    substitutes.drop(drop_list,inplace=True,axis=1)\n",
        "    \n",
        "    reserves     =club[club['Club_Position'].isin(res)]\n",
        "    reserves.drop(drop_list,inplace=True,axis=1)\n",
        "    \n",
        "    details=[starting, substitutes,reserves]\n",
        "    return details"
      ]
    },
    {
      "cell_type": "code",
      "execution_count": null,
      "id": "9e4e1ea9",
      "metadata": {
        "id": "9e4e1ea9",
        "outputId": "9e188700-a12f-4fa2-9e7e-d2f8b9932ba4"
      },
      "outputs": [
        {
          "name": "stderr",
          "output_type": "stream",
          "text": [
            "C:\\Users\\user1\\AppData\\Roaming\\Python\\Python37\\site-packages\\pandas\\core\\frame.py:4174: SettingWithCopyWarning: \n",
            "A value is trying to be set on a copy of a slice from a DataFrame\n",
            "\n",
            "See the caveats in the documentation: https://pandas.pydata.org/pandas-docs/stable/user_guide/indexing.html#returning-a-view-versus-a-copy\n",
            "  errors=errors,\n"
          ]
        }
      ],
      "source": [
        "real_madrid=return_club_data(players,'Real Madrid')\n",
        "real_starting    =real_madrid[0]\n",
        "real_substitutes =real_madrid[1]\n",
        "real_reserves    =real_madrid[2]"
      ]
    },
    {
      "cell_type": "code",
      "execution_count": null,
      "id": "3c1ef383",
      "metadata": {
        "id": "3c1ef383"
      },
      "outputs": [],
      "source": [
        "features=['Preffered_Position','Rating']"
      ]
    }
  ],
  "metadata": {
    "kernelspec": {
      "display_name": "Python 3 (ipykernel)",
      "language": "python",
      "name": "python3"
    },
    "language_info": {
      "codemirror_mode": {
        "name": "ipython",
        "version": 3
      },
      "file_extension": ".py",
      "mimetype": "text/x-python",
      "name": "python",
      "nbconvert_exporter": "python",
      "pygments_lexer": "ipython3",
      "version": "3.7.0"
    },
    "colab": {
      "provenance": [],
      "include_colab_link": true
    }
  },
  "nbformat": 4,
  "nbformat_minor": 5
}