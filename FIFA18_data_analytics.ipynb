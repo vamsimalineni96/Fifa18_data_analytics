{
 "cells": [
  {
   "cell_type": "code",
   "execution_count": 1,
   "id": "ea3cb3c2",
   "metadata": {},
   "outputs": [],
   "source": [
    "import pandas as pd\n",
    "import numpy as np\n",
    "import matplotlib.pyplot as plt\n",
    "\n",
    "from sklearn.cluster import KMeans as kmeans\n",
    "from sklearn.preprocessing import StandardScaler as ss\n",
    "\n"
   ]
  },
  {
   "cell_type": "code",
   "execution_count": 2,
   "id": "35beef5e",
   "metadata": {},
   "outputs": [],
   "source": [
    "source_path=r\"C:\\Users\\user1\\Downloads\\Vamsi_oe20s302\\Data Analytics\\archive\"\n",
    "players=pd.read_csv(source_path+r\"/FIFA18_official_data.csv\")"
   ]
  },
  {
   "cell_type": "markdown",
   "id": "53ebe934",
   "metadata": {},
   "source": [
    "## Displaying column names from the data frame"
   ]
  },
  {
   "cell_type": "code",
   "execution_count": 3,
   "id": "02f23b06",
   "metadata": {},
   "outputs": [
    {
     "name": "stdout",
     "output_type": "stream",
     "text": [
      "Index(['ID', 'Name', 'Age', 'Photo', 'Nationality', 'Flag', 'Overall',\n",
      "       'Potential', 'Club', 'Club Logo', 'Value', 'Wage', 'Special',\n",
      "       'Preferred Foot', 'International Reputation', 'Weak Foot',\n",
      "       'Skill Moves', 'Work Rate', 'Body Type', 'Real Face', 'Position',\n",
      "       'Jersey Number', 'Joined', 'Loaned From', 'Contract Valid Until',\n",
      "       'Height', 'Weight', 'Crossing', 'Finishing', 'HeadingAccuracy',\n",
      "       'ShortPassing', 'Volleys', 'Dribbling', 'Curve', 'FKAccuracy',\n",
      "       'LongPassing', 'BallControl', 'Acceleration', 'SprintSpeed', 'Agility',\n",
      "       'Reactions', 'Balance', 'ShotPower', 'Jumping', 'Stamina', 'Strength',\n",
      "       'LongShots', 'Aggression', 'Interceptions', 'Positioning', 'Vision',\n",
      "       'Penalties', 'Composure', 'Marking', 'StandingTackle', 'SlidingTackle',\n",
      "       'GKDiving', 'GKHandling', 'GKKicking', 'GKPositioning', 'GKReflexes',\n",
      "       'Best Position', 'Best Overall Rating', 'Release Clause'],\n",
      "      dtype='object')\n"
     ]
    }
   ],
   "source": [
    "print(players.columns)"
   ]
  },
  {
   "cell_type": "markdown",
   "id": "7b2a312e",
   "metadata": {},
   "source": [
    "## Dropping the irrelevant data from the players attributes"
   ]
  },
  {
   "cell_type": "code",
   "execution_count": 4,
   "id": "2cd84b11",
   "metadata": {},
   "outputs": [
    {
     "name": "stdout",
     "output_type": "stream",
     "text": [
      "Index(['Name', 'Age', 'Photo', 'Nationality', 'Overall', 'Potential', 'Club',\n",
      "       'Value', 'Wage', 'Preferred Foot', 'International Reputation',\n",
      "       'Weak Foot', 'Skill Moves', 'Work Rate', 'Body Type', 'Position',\n",
      "       'Jersey Number', 'Joined', 'Loaned From', 'Contract Valid Until',\n",
      "       'Height', 'Weight', 'Crossing', 'Finishing', 'HeadingAccuracy',\n",
      "       'ShortPassing', 'Volleys', 'Dribbling', 'Curve', 'FKAccuracy',\n",
      "       'LongPassing', 'BallControl', 'Acceleration', 'SprintSpeed', 'Agility',\n",
      "       'Reactions', 'Balance', 'ShotPower', 'Jumping', 'Stamina', 'Strength',\n",
      "       'LongShots', 'Aggression', 'Interceptions', 'Positioning', 'Vision',\n",
      "       'Penalties', 'Composure', 'Marking', 'StandingTackle', 'SlidingTackle',\n",
      "       'GKDiving', 'GKHandling', 'GKKicking', 'GKPositioning', 'GKReflexes',\n",
      "       'Best Position', 'Best Overall Rating', 'Release Clause'],\n",
      "      dtype='object')\n"
     ]
    }
   ],
   "source": [
    "drop_list=['ID','Flag','Special','Real Face','Club Logo']\n",
    "\n",
    "players.drop(drop_list,inplace=True,axis=1)\n",
    "print(players.columns)"
   ]
  },
  {
   "cell_type": "code",
   "execution_count": 5,
   "id": "87734b9a",
   "metadata": {},
   "outputs": [],
   "source": [
    "def position_dataframe(players):\n",
    "    \n",
    "    # Dropping the rows with Nan's in position column from the main dataframe \n",
    "    players=players[players['Position'].notna()]\n",
    "    print(\"Check if there are nans: \",players['Position'].isnull().values.any()) \n",
    "    \n",
    "    # Removing unnecessary info from the positions column\n",
    "    pos=players['Position']\n",
    "    post=pos.tolist()\n",
    "    a=[]\n",
    "    for i in range(len(post)):\n",
    "        ind=post[i].index('>')\n",
    "        a.append(post[i][ind+1:])\n",
    "    posit=pd.DataFrame(a,columns=['Position'])\n",
    "\n",
    "    # Deleting position column from the main data frame\n",
    "    del players['Position']\n",
    "    \n",
    "    # concating the refined position column in the main dataframe\n",
    "    players=pd.concat([players, posit], axis=1)\n",
    "    \n",
    "    # Dropping the nans in Position column\n",
    "    players=players[players['Position'].notna()]\n",
    "    \n",
    "    return players"
   ]
  },
  {
   "cell_type": "code",
   "execution_count": 24,
   "id": "1a2cee32",
   "metadata": {},
   "outputs": [],
   "source": [
    "def refining_dataframe(df):\n",
    "    # 'Preferred Foot' ,'Work Rate', 'Body Type'\n",
    "    df1=df[df['Preferred Foot'].notna()]\n",
    "    df2=df1[df1['Work Rate'].notna()]\n",
    "    df3=df2[df2['Body Type'].notna()]\n",
    "    \n",
    "    return df3"
   ]
  },
  {
   "cell_type": "code",
   "execution_count": 6,
   "id": "f54a60a4",
   "metadata": {},
   "outputs": [
    {
     "name": "stdout",
     "output_type": "stream",
     "text": [
      "Check if there are nans:  False\n",
      "Index(['Name', 'Age', 'Photo', 'Nationality', 'Overall', 'Potential', 'Club',\n",
      "       'Value', 'Wage', 'Preferred Foot', 'International Reputation',\n",
      "       'Weak Foot', 'Skill Moves', 'Work Rate', 'Body Type', 'Jersey Number',\n",
      "       'Joined', 'Loaned From', 'Contract Valid Until', 'Height', 'Weight',\n",
      "       'Crossing', 'Finishing', 'HeadingAccuracy', 'ShortPassing', 'Volleys',\n",
      "       'Dribbling', 'Curve', 'FKAccuracy', 'LongPassing', 'BallControl',\n",
      "       'Acceleration', 'SprintSpeed', 'Agility', 'Reactions', 'Balance',\n",
      "       'ShotPower', 'Jumping', 'Stamina', 'Strength', 'LongShots',\n",
      "       'Aggression', 'Interceptions', 'Positioning', 'Vision', 'Penalties',\n",
      "       'Composure', 'Marking', 'StandingTackle', 'SlidingTackle', 'GKDiving',\n",
      "       'GKHandling', 'GKKicking', 'GKPositioning', 'GKReflexes',\n",
      "       'Best Position', 'Best Overall Rating', 'Release Clause', 'Position'],\n",
      "      dtype='object')\n"
     ]
    }
   ],
   "source": [
    "'''\n",
    "Modifying the positions column for the main dataframe.\n",
    "'''\n",
    "# Use players_refined for future operations\n",
    "\n",
    "players_refined = position_dataframe(players)\n",
    "print(players_refined.columns)"
   ]
  },
  {
   "cell_type": "code",
   "execution_count": 25,
   "id": "132ecc79",
   "metadata": {},
   "outputs": [
    {
     "name": "stdout",
     "output_type": "stream",
     "text": [
      "['Right' 'Left']\n",
      "['High/ Medium' 'High/ High' 'High/ Low' 'Medium/ Medium' 'Medium/ High'\n",
      " 'Medium/ Low' 'Low/ High' 'Low/ Medium' 'Low/ Low']\n",
      "['Normal (170-185)' 'Stocky (170-185)' 'Lean (170-185)' 'Lean (185+)'\n",
      " 'Normal (170-)' 'Normal (185+)' 'C. Ronaldo' 'Lean (170-)' 'Messi'\n",
      " 'Shaqiri' 'Neymar' 'Normal (190+)' 'Stocky (170-)' 'Stocky (185+)'\n",
      " 'Akinfenwa' 'Courtois']\n",
      "['LS' 'RCM' 'RB' 'LB' 'LCM' 'RW' 'SUB' 'LW' 'LDM' 'CDM' 'RDM' 'LM' 'RES'\n",
      " 'LWB' 'CM' 'ST' 'RS' 'LCB' 'CAM' 'RWB' 'RCB' 'RM' 'CB' 'RAM' 'LF' 'RF'\n",
      " 'LAM' 'CF' 'GK']\n"
     ]
    }
   ],
   "source": [
    "# Refining the dataframe further with relevant categorical datatypes\n",
    "\n",
    "players_refined=refining_dataframe(players_refined)"
   ]
  },
  {
   "cell_type": "code",
   "execution_count": 29,
   "id": "454b3f4d",
   "metadata": {},
   "outputs": [
    {
     "name": "stdout",
     "output_type": "stream",
     "text": [
      "0\n"
     ]
    }
   ],
   "source": [
    "pref_foot =list(enumerate(players_refined['Preferred Foot'].unique()))\n",
    "work_rate =players_refined['Work Rate'].unique()\n",
    "body_type =players_refined['Body Type'].unique()\n",
    "position  =players_refined['Position'].unique()\n",
    "\n",
    "print(pref_foot[0][0])\n",
    "\n"
   ]
  },
  {
   "cell_type": "code",
   "execution_count": 26,
   "id": "7348bd13",
   "metadata": {},
   "outputs": [
    {
     "name": "stdout",
     "output_type": "stream",
     "text": [
      "             Name                                             Photo  \\\n",
      "0       L. Suárez  https://cdn.sofifa.com/players/176/580/18_60.png   \n",
      "1   R. Nainggolan  https://cdn.sofifa.com/players/178/518/18_60.png   \n",
      "2     A. Florenzi  https://cdn.sofifa.com/players/203/551/18_60.png   \n",
      "3        D. Alaba  https://cdn.sofifa.com/players/197/445/18_60.png   \n",
      "4        P. Pogba  https://cdn.sofifa.com/players/195/864/18_60.png   \n",
      "\n",
      "  Nationality               Club   Value   Wage Preferred Foot     Work Rate  \\\n",
      "0     Uruguay       FC Barcelona    €97M  €500K          Right  High/ Medium   \n",
      "1     Belgium               Roma  €42.5M  €130K          Right    High/ High   \n",
      "2       Italy               Roma    €21M   €70K          Right  High/ Medium   \n",
      "3     Austria  FC Bayern München  €38.5M  €130K           Left  High/ Medium   \n",
      "4      France  Manchester United    €76M  €250K          Right     High/ Low   \n",
      "\n",
      "          Body Type        Joined Loaned From Contract Valid Until Height  \\\n",
      "0  Normal (170-185)  Jul 11, 2014         NaN                 2021    6'0   \n",
      "1  Stocky (170-185)   Jan 7, 2014         NaN                 2021    5'9   \n",
      "2    Lean (170-185)   Jul 1, 2010         NaN                 2023    5'8   \n",
      "3    Lean (170-185)  Feb 10, 2010         NaN                 2021   5'11   \n",
      "4       Lean (185+)   Aug 9, 2016         NaN                 2021    6'3   \n",
      "\n",
      "   Weight Best Position Release Clause Position  \n",
      "0  190lbs            CF        €198.9M       LS  \n",
      "1  170lbs           CDM         €72.3M      RCM  \n",
      "2  148lbs            CF         €37.3M       RB  \n",
      "3  168lbs            LB         €66.4M       LB  \n",
      "4  185lbs            CM        €146.3M      LCM  \n"
     ]
    },
    {
     "data": {
      "text/plain": [
       "'\\nThe relevant categorical datatypes are:\\nPreferred Foot, Work Rate, Body Type, Position \\nThese are to be one hot encoded.\\n\\n'"
      ]
     },
     "execution_count": 26,
     "metadata": {},
     "output_type": "execute_result"
    }
   ],
   "source": [
    "'''\n",
    "Finding out the relevant categorical datatypes and encoding them\n",
    "''' \n",
    "\n",
    "players_cat = players_refined.select_dtypes(exclude=['float64','int64'])\n",
    "print(players_cat.head())\n",
    "\n",
    "\n",
    "'''\n",
    "The relevant categorical datatypes are:\n",
    "Preferred Foot, Work Rate, Body Type, Position \n",
    "These are to be one hot encoded.\n",
    "\n",
    "''' "
   ]
  },
  {
   "cell_type": "markdown",
   "id": "334d4ac8",
   "metadata": {},
   "source": [
    "# Numeric data"
   ]
  },
  {
   "cell_type": "code",
   "execution_count": 12,
   "id": "3de30ab3",
   "metadata": {},
   "outputs": [
    {
     "name": "stdout",
     "output_type": "stream",
     "text": [
      "        Age  Overall  Weak Foot  Skill Moves  Crossing  Finishing  \\\n",
      "0      30.0     92.0        4.0          4.0      77.0       94.0   \n",
      "1      29.0     86.0        3.0          3.0      73.0       76.0   \n",
      "2      26.0     82.0        3.0          3.0      77.0       76.0   \n",
      "3      25.0     85.0        4.0          3.0      81.0       63.0   \n",
      "4      24.0     88.0        4.0          5.0      80.0       73.0   \n",
      "...     ...      ...        ...          ...       ...        ...   \n",
      "17903  16.0     48.0        2.0          1.0      13.0        6.0   \n",
      "17904  17.0     52.0        2.0          1.0      10.0        8.0   \n",
      "17905  21.0     53.0        3.0          1.0      11.0       10.0   \n",
      "17906  17.0     50.0        2.0          1.0      14.0        7.0   \n",
      "17907  18.0     52.0        2.0          1.0      14.0        6.0   \n",
      "\n",
      "       HeadingAccuracy  ShortPassing  Volleys  Dribbling  ...  Penalties  \\\n",
      "0                 77.0          83.0     88.0       86.0  ...       85.0   \n",
      "1                 59.0          84.0     75.0       80.0  ...       63.0   \n",
      "2                 70.0          82.0     87.0       79.0  ...       76.0   \n",
      "3                 75.0          82.0     68.0       79.0  ...       80.0   \n",
      "4                 75.0          87.0     85.0       87.0  ...       76.0   \n",
      "...                ...           ...      ...        ...  ...        ...   \n",
      "17903             14.0          27.0      7.0       10.0  ...       12.0   \n",
      "17904             10.0          17.0      7.0       11.0  ...       13.0   \n",
      "17905             12.0          21.0      6.0        8.0  ...       14.0   \n",
      "17906             12.0          18.0      8.0        9.0  ...       18.0   \n",
      "17907             10.0          21.0      7.0       11.0  ...       15.0   \n",
      "\n",
      "       Composure  Marking  StandingTackle  SlidingTackle  GKDiving  \\\n",
      "0           85.0     30.0            45.0           38.0      27.0   \n",
      "1           84.0     78.0            86.0           88.0      11.0   \n",
      "2           80.0     74.0            79.0           78.0       9.0   \n",
      "3           79.0     78.0            82.0           80.0       5.0   \n",
      "4           87.0     64.0            70.0           68.0       5.0   \n",
      "...          ...      ...             ...            ...       ...   \n",
      "17903       31.0      5.0            11.0           12.0      55.0   \n",
      "17904       34.0      8.0            12.0           12.0      51.0   \n",
      "17905       22.0     10.0            13.0           11.0      51.0   \n",
      "17906       30.0      5.0            14.0           12.0      50.0   \n",
      "17907       35.0      7.0            12.0           11.0      59.0   \n",
      "\n",
      "       GKHandling  GKKicking  GKPositioning  GKReflexes  \n",
      "0            25.0       31.0           33.0        37.0  \n",
      "1            11.0       14.0            8.0        11.0  \n",
      "2             8.0       10.0           11.0        10.0  \n",
      "3             7.0       14.0           15.0         9.0  \n",
      "4             6.0        2.0            4.0         3.0  \n",
      "...           ...        ...            ...         ...  \n",
      "17903        53.0       48.0           42.0        45.0  \n",
      "17904        55.0       55.0           45.0        55.0  \n",
      "17905        53.0       52.0           54.0        50.0  \n",
      "17906        49.0       48.0           50.0        52.0  \n",
      "17907        47.0       46.0           48.0        53.0  \n",
      "\n",
      "[17908 rows x 38 columns]\n"
     ]
    },
    {
     "name": "stderr",
     "output_type": "stream",
     "text": [
      "C:\\Users\\user1\\AppData\\Roaming\\Python\\Python37\\site-packages\\pandas\\core\\frame.py:4174: SettingWithCopyWarning: \n",
      "A value is trying to be set on a copy of a slice from a DataFrame\n",
      "\n",
      "See the caveats in the documentation: https://pandas.pydata.org/pandas-docs/stable/user_guide/indexing.html#returning-a-view-versus-a-copy\n",
      "  errors=errors,\n"
     ]
    }
   ],
   "source": [
    "'''\n",
    "Creating a dataframe exclusively for numeric data \n",
    "'''\n",
    "# Drop \n",
    "\n",
    "# Dropping the alphabetic attributes\n",
    "players_numeric=players_refined.select_dtypes([np.number])\n",
    "\n",
    "# Drop the irrelevant attributes from the players for clustering\n",
    "irrelevant_data=['Potential','International Reputation','Jersey Number',\n",
    "                'Best Overall Rating']\n",
    "players_numeric.drop(irrelevant_data,inplace=True,axis=1)\n",
    "\n",
    "print(players_numeric)"
   ]
  },
  {
   "cell_type": "code",
   "execution_count": 10,
   "id": "89612e98",
   "metadata": {},
   "outputs": [
    {
     "name": "stdout",
     "output_type": "stream",
     "text": [
      "False\n"
     ]
    }
   ],
   "source": [
    "# Scanning the data frame for nan values\n",
    "check_nan=players_numeric.isnull().values.any()\n",
    "\n",
    "print(check_nan)"
   ]
  },
  {
   "cell_type": "markdown",
   "id": "9ef2e2ea",
   "metadata": {},
   "source": [
    "## Creating a database for Real Madrid for analysis"
   ]
  },
  {
   "cell_type": "code",
   "execution_count": 77,
   "id": "b3af580e",
   "metadata": {},
   "outputs": [
    {
     "name": "stdout",
     "output_type": "stream",
     "text": [
      "Number of clubs in the database: 634\n",
      "\n",
      "The number of players in each club in the database:\n",
      "Club\n",
      "1. FC Heidenheim    25\n",
      "1. FC Köln          26\n",
      "1. FC Nürnberg      28\n",
      "1. FSV Mainz 05     32\n",
      "1860 München        28\n",
      "                    ..\n",
      "Águilas Doradas     28\n",
      "Çaykur Rizespor     30\n",
      "Örebro SK           23\n",
      "Östersunds FK       23\n",
      "Śląsk Wrocław       23\n",
      "Length: 634, dtype: int64\n"
     ]
    }
   ],
   "source": [
    "# Finding the number of clubs in the database\n",
    "club_list=(pd.unique(players['Club']))\n",
    "print(\"Number of clubs in the database:\",len(club_list))\n",
    "club='Club'\n",
    "club_count=players.groupby(club).size()\n",
    "print(\"\\nThe number of players in each club in the database:\")\n",
    "print(club_count)"
   ]
  },
  {
   "cell_type": "code",
   "execution_count": 78,
   "id": "ea6eb208",
   "metadata": {},
   "outputs": [
    {
     "name": "stdout",
     "output_type": "stream",
     "text": [
      "['Real Madrid' 'FC Barcelona' 'FC Bayern' 'Manchester Utd' 'Chelsea'\n",
      " 'Arsenal' 'Juventus' 'PSG' 'Manchester City' 'Atlético Madrid'\n",
      " 'Bor. Dortmund' 'Spurs' 'Inter' 'Bayer 04' 'Liverpool' 'Roma'\n",
      " 'Olym. Lyonnais' 'Everton' 'Olym. Marseille' 'Napoli' 'AS Saint-Étienne'\n",
      " 'Athletic Bilbao' 'Leicester City' 'AS Monaco' 'Villarreal CF'\n",
      " 'FC Schalke 04' 'Crystal Palace' 'Real Sociedad' 'Milan' 'Sporting CP'\n",
      " 'FC Porto' '1. FC Köln' 'Sevilla FC' 'Genoa' 'Celta Vigo' 'Free Agents'\n",
      " 'Toronto FC' \"Bor. M'gladbach\" 'SL Benfica' 'West Ham' 'Valencia CF'\n",
      " 'Fiorentina' 'Torino' 'Galatasaray' 'Beşiktaş' 'UD Las Palmas'\n",
      " 'Southampton' 'Stoke City' 'Sassuolo' 'Lazio' 'VfL Wolfsburg'\n",
      " 'Bournemouth' 'Shakhtar Donetsk' 'Zenit' 'Swansea City' 'Udinese'\n",
      " 'Lokomotiv Moscow' 'Sampdoria' 'Stade Rennais' 'RCD Espanyol' 'Atalanta'\n",
      " 'LOSC Lille' 'Orlando City' 'NYCFC' 'Middlesbrough' '1899 Hoffenheim'\n",
      " 'Spartak Moscow' 'Watford' 'Eint. Frankfurt' 'West Brom' 'Málaga CF'\n",
      " 'CSKA Moscow' 'OGC Nice' 'Fenerbahçe' 'Real Betis' '1. FSV Mainz 05'\n",
      " 'LA Galaxy' 'Hertha BSC' 'Tigres' 'Giron. Bordeaux' 'Sunderland'\n",
      " 'Free agent' 'Antalyaspor' 'Ajax' 'RB Leipzig' 'FC Augsburg'\n",
      " 'Montpellier HSC' 'FC Krasnodar' 'FC Rostov' 'Werder Bremen' 'PSV'\n",
      " 'CA Osasuna' 'San Lorenzo' 'Bologna' 'Chicago Fire' 'Hamburger SV'\n",
      " 'Chievo Verona' 'RC Deportivo' 'Al Ahli' 'SD Eibar' 'SC Braga'\n",
      " 'Medipol Başakşehir' 'Feyenoord' 'FC Lorient' 'Sounders FC' 'Toulouse FC'\n",
      " 'Rubin Kazan' 'Hull City' 'FC Basel' 'Panathinaikos' 'Montreal Impact'\n",
      " 'Portland' 'Bursaspor' 'Necaxa' 'Racing Club' 'Granada CF' 'Cagliari'\n",
      " 'Djurgårdens IF' 'Colorado Rapids' 'Sporting Gijón' 'Angers SCO'\n",
      " 'Club Brugge' 'Levante UD' 'River Plate' 'Querétaro' 'Burnley'\n",
      " 'Monterrey' 'Olympiakos CFP' 'Hannover 96' 'América' 'RSC Anderlecht'\n",
      " 'KRC Genk' 'Rosario Central' 'Whitecaps FC' 'Trabzonspor' 'Akhisarspor'\n",
      " 'Empoli' 'Uni. Católica' 'AZ' 'Kalmar FF' 'VfB Stuttgart'\n",
      " 'Aytemiz Alanyaspor' 'EA Guingamp' 'Ponte Preta' 'Goiás' 'Internacional'\n",
      " 'Coritiba' 'Botafogo' 'Chapecoense' 'Atl. Paranaense' 'Deport. Alavés'\n",
      " 'Independiente' 'Pachuca' 'Osmanlıspor' 'Boca Juniors' 'Lanús'\n",
      " 'Atl. Nacional' 'FC Nantes' 'Indep. Medellín' 'CD Leganés'\n",
      " 'SC Heerenveen' 'FC Utrecht' 'Rio Ave' 'FC København' 'Vitesse'\n",
      " 'Newcastle Utd' 'FC Dallas' 'Legia Warszawa' 'Estudiantes'\n",
      " 'Kaizer Chiefs' 'León' 'Toluca' 'Colo-Colo' 'FC St. Gallen' 'KV Oostende'\n",
      " 'SM Caen' 'Criciúma' 'Sport' 'Santos' 'Grêmio' 'Figueirense' 'Palmeiras'\n",
      " 'A. Minas G.' 'V. Guimarães' 'Standard Liège' 'SV Darmstadt' 'Nacional'\n",
      " 'SC Freiburg' 'U.N.A.M.' 'Monarcas Morelia' 'Santos Laguna' 'Boavista'\n",
      " 'Ind. Santa Fe' 'Wolves' 'PAOK' 'Birmingham City' 'Dijon FCO' 'Brighton'\n",
      " 'Norwich' 'Fulham' 'Huddersfield' 'Konyaspor' 'Leeds United'\n",
      " 'FC Ingolstadt' 'Frosinone' 'Anzhi Makhachkala' 'Çaykur Rizespor'\n",
      " 'Melbourne City' 'Aston Villa' 'Orlando Pirates' 'FC Metz' 'Marítimo'\n",
      " 'FC Seoul' 'BSC Young Boys' 'FC Ufa' '1860 München' 'Suwon Bluewings'\n",
      " 'NY Red Bulls' 'Sheffield Wed' 'Celtic' 'KAA Gent' 'FC Orenburg'\n",
      " 'Grasshopper' 'Rayo Vallecano' 'Cruz Azul' 'SC Bastia' 'Arsenal Tula'\n",
      " 'Perth Glory' 'Hellas Verona' 'Bari' 'Gimnàstic' 'Real Salt Lake'\n",
      " 'Vitória' 'Santa Cruz' 'Joinville' 'São Paulo' 'Cruzeiro' 'Fluminense'\n",
      " 'Guadalajara' 'Sanfrecce Hiroshima' 'Ulsan Hyundai' 'Al Hilal'\n",
      " 'Stade de Reims' 'Kayserispor' 'Tijuana' 'Deportivo Cali' 'Sporting KC'\n",
      " 'Real Valladolid' 'Palermo' 'Derby County' 'Zulte-Waregem' 'Reading'\n",
      " 'Sagan Tosu' 'Roda JC' 'Paços Ferreira' 'Brentford' 'QPR' 'UD Almería'\n",
      " 'Gençlerbirliği' 'D.C. United' 'Uni. de Chile' 'Melb. Victory'\n",
      " 'Belenenses' 'FC Groningen' 'FC Twente' 'Belgrano' 'FC Sion' 'Kasimpaşa'\n",
      " 'V. Setúbal' 'New England' 'Columbus Crew SC' 'Terek Grozny' 'Preston'\n",
      " 'Banfield' 'Brisbane Roar' 'Pescara' 'Jeonbuk Hyundai' 'F. Düsseldorf'\n",
      " 'RC Lens' \"Newell's\" 'Cardiff City' 'Atlético Mineiro' 'Veracruz'\n",
      " 'Excelsior' 'US Orléans' 'Union Berlin' 'Godoy Cruz' '1. FC Heidenheim'\n",
      " 'Atlas' 'F. Santa Maria' 'Gamba Osaka' 'Chaves' 'Benevento' 'Chiapas'\n",
      " 'Getafe CF' 'Córdoba CF' 'Sangju Sangmu' 'SD Huesca' 'Sydney FC'\n",
      " 'Urawa Diamonds' 'Adanaspor' '1. FC Nürnberg' 'Gaziantepspor'\n",
      " 'RB Salzburg' 'Philadelphia' 'Karabükspor' 'CD Tenerife' 'Real Oviedo'\n",
      " 'Al Ittihad' 'Girona CF' 'Kawasaki Front.' 'Lech Poznań' 'Arouca'\n",
      " 'Vercelli' 'Terni' 'Stade Lavallois' 'Junior' 'Kashima Antlers'\n",
      " 'Rosenborg BK' 'Real Zaragoza' 'VfL Bochum' 'Spal' 'Al Qadisiyah'\n",
      " 'Puebla' \"Nott'm Forest\" 'Vélez Sarsfield' 'Al Taawoun' 'Bury'\n",
      " 'GFC Ajaccio' 'Krylya Sovetov' 'IFK Norrköping' 'FC Luzern'\n",
      " 'Sp. Charleroi' 'Atlético Tucumán' 'Once Caldas' 'Vasco da Gama'\n",
      " 'Parque Patricios' 'FC Sochaux' 'Unión' 'Unión Española' 'FC Tokyo'\n",
      " 'Santa Fe' 'Sevilla Atlét.' 'Vissel Kobe' 'Carpi' 'Tigre'\n",
      " 'Uni. Concepción' 'Cortuluá' 'G. La Plata' 'Al Nassr' 'Deportes Tolima'\n",
      " 'Millonarios' 'Al. Petrolera' 'Braunschweig' 'Al Shabab' 'SK Rapid Wien'\n",
      " 'FC Ural' 'Kashiwa Reysol' 'Kaiserslautern' 'Vålerenga Fotball'\n",
      " 'Amkar Perm' 'Cesena' 'Malmö FF' 'Crotone' 'CD Lugo' 'Ipswich'\n",
      " 'KV Kortrijk' 'FC St. Pauli' 'N.E.C.' 'BK Häcken' 'FC Midtjylland'\n",
      " 'Cádiz C.F.' 'Novara' 'CD Palestino' 'IFK Göteborg' 'AC Ajaccio'\n",
      " 'Jagiellonia' 'Wisła Kraków' 'AD Alcorcón' 'Al Fateh' 'FC Lausanne'\n",
      " 'Austria Wien' 'Depor. Iquique' 'Rangers' 'CA Talleres' 'Salerno'\n",
      " 'La Spezia' 'Brescia' 'Iwata' 'ES Troyes AC' 'KAS Eupen' 'Bristol City'\n",
      " 'Avaí' 'AS Nancy' 'Fl. Varela' 'Elche CF' 'Tondela' 'Karlsruher SC'\n",
      " 'Vegalta Sendai' 'CD Numancia' 'Yokohama F. Marinos'\n",
      " 'Atlético Bucaramanga' 'Águilas Doradas' 'Wanderers' 'Moreirense'\n",
      " 'Estoril Praia' 'Patronato' \"CD O'Higgins\" 'UCAM Murcia' 'Sint-Truiden'\n",
      " 'WS Wanderers' 'Brøndby IF' 'Heracles Almelo' 'Pogoń Szczecin'\n",
      " 'SV Sandhausen' 'Hamilton' 'Nîmes Olympique' 'Junín' 'CF Reus Deportiu'\n",
      " 'AIK' 'Greuther Fürth' 'Le Havre AC' 'Cracovia' 'Houston Dynamo'\n",
      " 'Lechia Gdańsk' 'RCD Mallorca' 'Randers FC' 'La Equidad' 'Jeju United'\n",
      " 'SJ Earthquakes' 'Hammarby IF' 'Audax Italiano' 'Wigan Athletic'\n",
      " 'San Juan' 'RC Strasbourg' 'Bolton' 'Waasl. Beveren' 'Pohang Steelers'\n",
      " 'KV Mechelen' 'CD Antofagasta' 'Latina' 'Pisa' 'Avellino' 'ADO Den Haag'\n",
      " 'Aberdeen' 'Odds BK' 'Quilmes' 'Sarandí' 'IF Elfsborg' 'Sport. Lokeren'\n",
      " 'SK Sturm Graz' 'AJ Auxerre' 'Seongnam FC' 'Hearts' 'KVC Westerlo'\n",
      " 'San Luis' 'CD Everton' 'Al Khaleej' 'Perugia' 'Albirex Niigata'\n",
      " 'Adelaide United' 'Oldham Athletic' 'Jeonnam Dragons' 'Vicenza'\n",
      " 'Deportes Temuco' 'AC Horsens' 'Strømsgodset IF' 'Arminia Bielefeld'\n",
      " 'CD Mirandés' 'Trapani' 'Brisigonza' 'Charlton Ath' 'PEC Zwolle'\n",
      " 'Blackburn Rovers' 'FC Vaduz' 'SønderjyskE' 'Molde FK' 'Willem II'\n",
      " 'Lyngby BK' 'Borgocalcio' 'Bourg-Péronnas' 'Barnsley' 'Viking FK'\n",
      " 'Envigado' 'Incheon United' 'FC Tom Tomsk' 'Fleetwood Town' 'Rafaela'\n",
      " 'CD Huachipato' 'Atlético Huila' 'CD Cobresal' 'Würzburger Kickers'\n",
      " 'Stade Brestois' 'Tours FC' 'Stabæk Fotball' 'Clermont Foot'\n",
      " \"Sparta R'dam\" 'Piast Gliwice' 'Red Star FC' 'FC Nordsjælland'\n",
      " 'Ross County' 'Go Ahead Eagles' 'Aalborg BK' 'Well. Phoenix'\n",
      " 'Rotherham Utd' 'Dynamo Dresden' 'SK Brann' 'Al Batin' 'Odense BK'\n",
      " 'Erzgebirge Aue' 'Shonan Bellmare' 'Burton Albion' 'Port Vale'\n",
      " 'Esbjerg fB' 'Aarhus GF' 'Östersunds FK' 'Patriotas' 'Mar del Plata'\n",
      " 'Royal Mouscron' 'Nagoya' 'Zagłębie Lubin' 'Wisła Płock' 'HJK Helsinki'\n",
      " 'Śląsk Wrocław' 'Aalesunds FK' 'Amiens SC' 'Leyton Orient' 'Millwall'\n",
      " 'Cittadella' 'Sheffield Utd' 'Suwon FC' 'Chesterfield' 'Crawley Town'\n",
      " 'Deportivo Pasto' 'Korona Kielce' 'Cham. Niortais' 'Bristol Rovers'\n",
      " 'MK Dons' 'Valenciennes FC' 'Rochdale' 'Kilmarnock' 'Al Raed'\n",
      " 'SCR Altach' 'Southend United' 'Inverness CT' 'Boyacá Chicó'\n",
      " 'Omiya Ardija' 'Al-Ettifaq' 'Temperley' 'Arka Gdynia' 'Walsall'\n",
      " 'Al Faisaly' 'Bahía Blanca' 'Ventforet Kofu' 'Jaguares' 'Sogndal'\n",
      " 'Gillingham' 'Silkeborg IF' 'Sarpsborg 08 FF' 'Al Wehda' 'Swindon Town'\n",
      " 'Oxford United' 'Plymouth Argyle' 'St. Johnstone' 'Dundee FC'\n",
      " 'Lillestrøm SK' 'Górnik Łęczna' 'Doncaster' 'Portsmouth' 'Bradford City'\n",
      " 'Peterborough' 'Motherwell' 'Luton Town' 'Coventry City' 'Northampton'\n",
      " 'GwangJu FC' 'Termalica' 'Jönköpings Södra IF' 'SV Mattersburg'\n",
      " 'SKN St. Pölten' 'FK Haugesund' 'FC Lugano' 'Ruch Chorzów' 'Colchester'\n",
      " 'Scunthorpe Utd' 'Tromsø IL' 'Örebro SK' 'Viborg FF' 'Partick Thistle'\n",
      " 'St. Pats' 'Avispa Fukuoka' 'Shrewsbury' 'Wycombe' 'FK Bodø/Glimt'\n",
      " 'FC Thun' 'Blackpool' 'Wolfsberger AC' 'Notts County' 'IK Start'\n",
      " 'Admira Wacker' 'SV Ried' 'Helsingborgs IF' 'GIF Sundsvall' 'Morecambe'\n",
      " 'AFC Wimbledon' 'Carlisle United' 'Grimsby Town' 'Cork City'\n",
      " 'Newcastle Jets' 'Central Coast' 'Fortaleza FC' 'Exeter City'\n",
      " 'Crewe Alexandra' 'Cheltenham Town' 'Finn Harps' 'Stevenage'\n",
      " 'Cambridge Utd' 'Dundalk' 'Mansfield Town' 'Yeovil Town'\n",
      " 'Shamrock Rovers' 'Barnet' 'Newport County' 'Hartlepool' 'Accrington'\n",
      " 'Gefle IF' 'Sligo Rovers' 'Falkenbergs FF' 'Derry City' 'Bohemian FC'\n",
      " 'Bray Wanderers' 'Galway United' 'Wexford Youths' 'Longford Town']\n"
     ]
    }
   ],
   "source": [
    "print(club_list)"
   ]
  },
  {
   "cell_type": "markdown",
   "id": "371a9210",
   "metadata": {},
   "source": [
    "## Analysing players of the club"
   ]
  },
  {
   "cell_type": "code",
   "execution_count": 117,
   "id": "9915a2ae",
   "metadata": {},
   "outputs": [],
   "source": [
    "def return_club_data(players,club_name):\n",
    "    # extracting the details of the players for the respective club\n",
    "    main_clubs=[club_name]\n",
    "    club=players[players['Club'].isin(main_clubs)]\n",
    "    \n",
    "    # Creating different dataframes for subsitutes, reserve players and starting \n",
    "    subs=['Sub']\n",
    "    res =['Res']\n",
    "    start=subs+res\n",
    "    drop_list=['Club_Position']\n",
    "    \n",
    "    starting     =club[~club['Club_Position'].isin(start)]\n",
    "    \n",
    "    substitutes  =club[club['Club_Position'].isin(subs)]\n",
    "    substitutes.drop(drop_list,inplace=True,axis=1)\n",
    "    \n",
    "    reserves     =club[club['Club_Position'].isin(res)]\n",
    "    reserves.drop(drop_list,inplace=True,axis=1)\n",
    "    \n",
    "    details=[starting, substitutes,reserves]\n",
    "    return details"
   ]
  },
  {
   "cell_type": "code",
   "execution_count": 118,
   "id": "9e4e1ea9",
   "metadata": {},
   "outputs": [
    {
     "name": "stderr",
     "output_type": "stream",
     "text": [
      "C:\\Users\\user1\\AppData\\Roaming\\Python\\Python37\\site-packages\\pandas\\core\\frame.py:4174: SettingWithCopyWarning: \n",
      "A value is trying to be set on a copy of a slice from a DataFrame\n",
      "\n",
      "See the caveats in the documentation: https://pandas.pydata.org/pandas-docs/stable/user_guide/indexing.html#returning-a-view-versus-a-copy\n",
      "  errors=errors,\n"
     ]
    }
   ],
   "source": [
    "real_madrid=return_club_data(players,'Real Madrid')\n",
    "real_starting    =real_madrid[0]\n",
    "real_substitutes =real_madrid[1]\n",
    "real_reserves    =real_madrid[2]"
   ]
  },
  {
   "cell_type": "code",
   "execution_count": null,
   "id": "3c1ef383",
   "metadata": {},
   "outputs": [],
   "source": [
    "features=['Preffered_Position','Rating']"
   ]
  }
 ],
 "metadata": {
  "kernelspec": {
   "display_name": "Python 3 (ipykernel)",
   "language": "python",
   "name": "python3"
  },
  "language_info": {
   "codemirror_mode": {
    "name": "ipython",
    "version": 3
   },
   "file_extension": ".py",
   "mimetype": "text/x-python",
   "name": "python",
   "nbconvert_exporter": "python",
   "pygments_lexer": "ipython3",
   "version": "3.7.0"
  }
 },
 "nbformat": 4,
 "nbformat_minor": 5
}
